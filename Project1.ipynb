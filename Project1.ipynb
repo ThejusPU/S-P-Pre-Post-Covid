{
 "cells": [
  {
   "cell_type": "code",
   "execution_count": 75,
   "metadata": {},
   "outputs": [],
   "source": [
    "# Do not edit this cell\n",
    "\n",
    "# course: 3654\n",
    "# a: Project 1\n",
    "# d: VT"
   ]
  },
  {
   "cell_type": "markdown",
   "metadata": {},
   "source": [
    "# S&P 500 Companies Pre/Post Covid"
   ]
  },
  {
   "cell_type": "markdown",
   "metadata": {},
   "source": [
    "### Team: Rich Homies (Group 29)\n",
    "\n",
    "**Name:**  Thejus Poruthikode Unnivelan\n",
    "**PID:**  thejuspu\n",
    "\n",
    "**Name:**  Andrew Visocan\n",
    "**PID:**  avisocan\n",
    "    \n",
    "We have neither given nor received unauthorized assistance on this assignment. See the course sylabus for details on the Honor Code policy. In particular, sharing lines of solution code is prohibited.\n",
    "\n",
    "Since we are a smaller group, we have coordinated to work on the project at the same time. The work has been done with collaboration on GitHub."
   ]
  },
  {
   "cell_type": "code",
   "execution_count": 77,
   "metadata": {},
   "outputs": [],
   "source": [
    "import pandas as pd\n",
    "import numpy as np\n",
    "import matplotlib\n",
    "import matplotlib.pyplot as plt\n",
    "from alpha_vantage.timeseries import TimeSeries   # pip install alpha_vantage in Anaconda Prompt\n",
    "from sklearn import preprocessing\n",
    "from datetime import datetime\n",
    "import time"
   ]
  },
  {
   "cell_type": "markdown",
   "metadata": {},
   "source": [
    "## Objective"
   ]
  },
  {
   "cell_type": "markdown",
   "metadata": {},
   "source": [
    "To organize the companies on the S&P 500 into groups that flourished or struggled in the times of Covid-19, based on OHLCV data (Open, High, Low, Close, Volume). companyFile is a file containing details on the 509 companies on the S&P500, including ticker symbol, company name, their sector, and their industry (individual industries make up sectors)."
   ]
  },
  {
   "cell_type": "code",
   "execution_count": 59,
   "metadata": {},
   "outputs": [
    {
     "data": {
      "text/plain": [
       "Index(['Ticker', 'Company', 'Sector', 'Industry'], dtype='object')"
      ]
     },
     "execution_count": 59,
     "metadata": {},
     "output_type": "execute_result"
    }
   ],
   "source": [
    "companyFile = \"S&P500_Companies.csv\"\n",
    "AVkey=\"ZH9AWDIE9WH36H30\"\n",
    "companies = pd.read_csv(companyFile)\n",
    "companies.columns"
   ]
  },
  {
   "cell_type": "markdown",
   "metadata": {},
   "source": [
    "Using one datapoint (AAL) we were able to create trimData which filters the dataframe from AlphaVantage to dates between the date 2 quarters before the crash date and 2 quarters after the crash date. A quarter is 3 months, so calculating the start and end date was pretty easy. We also found the pre-crash high and the post-crash low by looking at the S&P500 graph for reference. "
   ]
  },
  {
   "cell_type": "code",
   "execution_count": 70,
   "metadata": {},
   "outputs": [],
   "source": [
    "crash = datetime(2020, 2, 20)\n",
    "start = datetime(2019, 8, 20)\n",
    "end = datetime(2020, 8, 20)\n",
    "preCrashHigh = (2020, 2, 20)\n",
    "postCrashLow = (2020, 3, 23)"
   ]
  },
  {
   "cell_type": "code",
   "execution_count": 71,
   "metadata": {},
   "outputs": [],
   "source": [
    "def trimData(data):\n",
    "    data = data.loc[start:end, :]\n",
    "    data = data.filter(['1. open', '2. high', '3. low', '4. close', '6. volume'], axis=1)\n",
    "    data.columns = [\"Open\", \"High\", \"Low\", \"Close\", \"Volume\"]\n",
    "    return data"
   ]
  },
  {
   "cell_type": "markdown",
   "metadata": {},
   "source": [
    "We are limited to 5 calls a minute and 500 calls a day. So saving the data for later reading will be immensely useful. The second cell down reads the first 500 data points, and the third cell down reads the last 9 data points. Haven't collected all the data-files because it will take multiple days."
   ]
  },
  {
   "cell_type": "code",
   "execution_count": 74,
   "metadata": {},
   "outputs": [],
   "source": [
    "import os\n",
    "os.makedirs('DATA')"
   ]
  },
  {
   "cell_type": "code",
   "execution_count": 78,
   "metadata": {},
   "outputs": [
    {
     "ename": "KeyboardInterrupt",
     "evalue": "",
     "output_type": "error",
     "traceback": [
      "\u001b[1;31m---------------------------------------------------------------------------\u001b[0m",
      "\u001b[1;31mKeyboardInterrupt\u001b[0m                         Traceback (most recent call last)",
      "\u001b[1;32m<ipython-input-78-7d54b2b26099>\u001b[0m in \u001b[0;36m<module>\u001b[1;34m\u001b[0m\n\u001b[0;32m      7\u001b[0m     \u001b[1;32mif\u001b[0m \u001b[0mcount\u001b[0m \u001b[1;33m==\u001b[0m \u001b[1;36m5\u001b[0m\u001b[1;33m:\u001b[0m\u001b[1;33m\u001b[0m\u001b[1;33m\u001b[0m\u001b[0m\n\u001b[0;32m      8\u001b[0m         \u001b[0mcount\u001b[0m \u001b[1;33m=\u001b[0m \u001b[1;36m0\u001b[0m\u001b[1;33m\u001b[0m\u001b[1;33m\u001b[0m\u001b[0m\n\u001b[1;32m----> 9\u001b[1;33m         \u001b[0mtime\u001b[0m\u001b[1;33m.\u001b[0m\u001b[0msleep\u001b[0m\u001b[1;33m(\u001b[0m\u001b[1;36m60\u001b[0m\u001b[1;33m)\u001b[0m\u001b[1;33m\u001b[0m\u001b[1;33m\u001b[0m\u001b[0m\n\u001b[0m",
      "\u001b[1;31mKeyboardInterrupt\u001b[0m: "
     ]
    }
   ],
   "source": [
    "count = 0\n",
    "for symbol in companies.loc[0:499, 'Ticker']:\n",
    "    ts = TimeSeries(key=AVkey, output_format='pandas')\n",
    "    data, meta_data = ts.get_daily_adjusted(symbol, outputsize='full')\n",
    "    trimData(data).to_csv('DATA/' + symbol + '.csv')\n",
    "    count += 1\n",
    "    if count == 5:\n",
    "        count = 0\n",
    "        time.sleep(60)"
   ]
  },
  {
   "cell_type": "code",
   "execution_count": 82,
   "metadata": {},
   "outputs": [],
   "source": [
    "count = 0\n",
    "for symbol in companies.loc[500:, 'Ticker']:\n",
    "    ts = TimeSeries(key=AVkey, output_format='pandas')\n",
    "    data, meta_data = ts.get_daily_adjusted(symbol, outputsize='full')\n",
    "    trimData(data).to_csv('DATA/' + symbol + '.csv')\n",
    "    count += 1\n",
    "    if count == 5:\n",
    "        count = 0\n",
    "        time.sleep(60)"
   ]
  },
  {
   "cell_type": "code",
   "execution_count": null,
   "metadata": {},
   "outputs": [],
   "source": []
  },
  {
   "cell_type": "code",
   "execution_count": null,
   "metadata": {},
   "outputs": [],
   "source": []
  }
 ],
 "metadata": {
  "kernelspec": {
   "display_name": "Python 3",
   "language": "python",
   "name": "python3"
  },
  "language_info": {
   "codemirror_mode": {
    "name": "ipython",
    "version": 3
   },
   "file_extension": ".py",
   "mimetype": "text/x-python",
   "name": "python",
   "nbconvert_exporter": "python",
   "pygments_lexer": "ipython3",
   "version": "3.7.1"
  }
 },
 "nbformat": 4,
 "nbformat_minor": 2
}
